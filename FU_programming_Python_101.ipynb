{
  "nbformat": 4,
  "nbformat_minor": 0,
  "metadata": {
    "colab": {
      "provenance": [],
      "include_colab_link": true
    },
    "kernelspec": {
      "name": "python3",
      "display_name": "Python 3"
    },
    "language_info": {
      "name": "python"
    }
  },
  "cells": [
    {
      "cell_type": "markdown",
      "metadata": {
        "id": "view-in-github",
        "colab_type": "text"
      },
      "source": [
        "<a href=\"https://colab.research.google.com/github/lmiln/programmingproject2023/blob/main/FU_programming_Python_101.ipynb\" target=\"_parent\"><img src=\"https://colab.research.google.com/assets/colab-badge.svg\" alt=\"Open In Colab\"/></a>"
      ]
    },
    {
      "cell_type": "markdown",
      "source": [
        "Today you will learn some Python basics. We will try to translate the basic concepts from Matlab into Python.\n",
        "\n",
        "**1. Working with numbers**"
      ],
      "metadata": {
        "id": "A4mtbTmynkdF"
      }
    },
    {
      "cell_type": "code",
      "execution_count": 1,
      "metadata": {
        "id": "et-2dlNUnjN-"
      },
      "outputs": [],
      "source": [
        "a = 2\n",
        "b = 3\n",
        "c = a + b"
      ]
    },
    {
      "cell_type": "markdown",
      "source": [
        "In Matlab, you had to suppress output by adding a semicolon at the end of each line, e.g.\n",
        "\n",
        "c = a + b;\n",
        "\n",
        "In Python, output is automatically suppressed. To show output, you need to either run the operation without assigning it to a variable, e.g.:"
      ],
      "metadata": {
        "id": "NXQKeyp0n750"
      }
    },
    {
      "cell_type": "code",
      "source": [
        "a + b"
      ],
      "metadata": {
        "id": "4gn5aD8EoiNQ"
      },
      "execution_count": null,
      "outputs": []
    },
    {
      "cell_type": "markdown",
      "source": [
        "... or calling the variable itself:"
      ],
      "metadata": {
        "id": "41oDxvoIokdc"
      }
    },
    {
      "cell_type": "code",
      "source": [
        "c"
      ],
      "metadata": {
        "id": "f9x-3aedo2YB"
      },
      "execution_count": null,
      "outputs": []
    },
    {
      "cell_type": "markdown",
      "source": [
        "The most common operators are:"
      ],
      "metadata": {
        "id": "LbzS_9y2xuGE"
      }
    },
    {
      "cell_type": "code",
      "source": [
        "a + b # addition\n",
        "a - b # subtraction\n",
        "a * b # multiplication\n",
        "a / b # division\n",
        "a ** b # !! this is the exponentiation symbol (not ^ as in Matlab)"
      ],
      "metadata": {
        "id": "heGnzXgix1q6"
      },
      "execution_count": null,
      "outputs": []
    },
    {
      "cell_type": "markdown",
      "source": [
        "Please note that in any code snippet such as the one above, only the output of the last line is displayed.\n",
        "\n",
        "There are also some special arithmetic symbols that are not present in Matlab:"
      ],
      "metadata": {
        "id": "vNT7jBzAyfLo"
      }
    },
    {
      "cell_type": "code",
      "source": [
        "a // b # floor division (i.e., discarding the fractional part; or rounding down to the next integer)"
      ],
      "metadata": {
        "id": "xsgArANwyr_S"
      },
      "execution_count": null,
      "outputs": []
    },
    {
      "cell_type": "code",
      "source": [
        "a % b # remainder of the division"
      ],
      "metadata": {
        "id": "O4c5T9XYyydr"
      },
      "execution_count": null,
      "outputs": []
    },
    {
      "cell_type": "markdown",
      "source": [
        "**2. Naming variables**\n",
        "\n",
        "Variable names in Python can be any length and can consist of uppercase and lowercase letters (A-Z, a-z), digits (0-9), and the underscore character (_). An additional restriction is that, although a variable name can contain digits, the first character of a variable name cannot be a digit (as in Matlab). This means that a variable name can start with an underscore (unlike in Matlab)."
      ],
      "metadata": {
        "id": "f4EOEaDHy3su"
      }
    },
    {
      "cell_type": "code",
      "source": [
        "a = 2\n",
        "0a = 5\n",
        "_a = 8"
      ],
      "metadata": {
        "id": "t6O3o_0Czkyg"
      },
      "execution_count": null,
      "outputs": []
    },
    {
      "cell_type": "markdown",
      "source": [
        "**3. Working with strings**\n",
        "\n",
        "Similar to Matlab, strings are defined by using 'single' or \"double\" quotation marks.\n",
        "Unlike in Matlab, strings can be very easily concatenated to form longer strings."
      ],
      "metadata": {
        "id": "3_1sIu77zsGX"
      }
    },
    {
      "cell_type": "code",
      "source": [
        "string1 = \"Hello\"\n",
        "string2 = 'python'\n",
        "string3 = string1 + \" \" + string2 + \"!\"\n",
        "string3"
      ],
      "metadata": {
        "id": "eV90tEEfZj3w"
      },
      "execution_count": null,
      "outputs": []
    },
    {
      "cell_type": "markdown",
      "source": [
        "**4. Working with lists**\n",
        "\n",
        "Lists are flexible and mutable variables used for storing ordered data.\n",
        "\n",
        "Flexible: list elements can include numbers, strings, other lists etc.\n",
        "\n",
        "Mutable: list elements can be indexed, replaced etc."
      ],
      "metadata": {
        "id": "mWBMu_tUZyAl"
      }
    },
    {
      "cell_type": "code",
      "source": [
        "list1 = [1, 2, 3]\n",
        "list2 = [\"One\", \"Two\", \"Three\"]\n",
        "print(list1)\n",
        "print(list2)"
      ],
      "metadata": {
        "id": "hYQm6IEkaPkY"
      },
      "execution_count": null,
      "outputs": []
    },
    {
      "cell_type": "markdown",
      "source": [
        "*Exercise 1:* Create list of lists. A new variable called list3 should contain two elements: (1) list1 and (2) list2. Print the output of list3."
      ],
      "metadata": {
        "id": "ongqfjF5agsR"
      }
    },
    {
      "cell_type": "code",
      "source": [
        "# create list\n",
        "list3 = XX\n",
        "\n",
        "# print list\n",
        "print(XX)"
      ],
      "metadata": {
        "id": "uVZbARe-bJFo"
      },
      "execution_count": null,
      "outputs": []
    },
    {
      "cell_type": "code",
      "source": [
        "#@title Exercise 1 solution\n",
        "# create list\n",
        "list3 = [list1, list2]\n",
        "\n",
        "# print list\n",
        "print(list3)"
      ],
      "metadata": {
        "id": "xy6wxvaDbYba"
      },
      "execution_count": null,
      "outputs": []
    },
    {
      "cell_type": "markdown",
      "source": [
        "Indexing works a bit differently than in Matlab. The main difference is that in Matlab indexing starts at 1 (i.e., the first element has index 1), while in Python indexing starts at 0 (i.e., the first element has index 0)."
      ],
      "metadata": {
        "id": "n9zTp1oPbs57"
      }
    },
    {
      "cell_type": "code",
      "source": [
        "list1[1]"
      ],
      "metadata": {
        "id": "Xr49rjv5cB9q",
        "colab": {
          "base_uri": "https://localhost:8080/",
          "height": 174
        },
        "outputId": "aab87b7b-442a-483c-bd7d-fb3b86a5a824"
      },
      "execution_count": null,
      "outputs": [
        {
          "output_type": "error",
          "ename": "NameError",
          "evalue": "name 'list1' is not defined",
          "traceback": [
            "\u001b[0;31m---------------------------------------------------------------------------\u001b[0m",
            "\u001b[0;31mNameError\u001b[0m                                 Traceback (most recent call last)",
            "\u001b[0;32m<ipython-input-1-d0b300a74e9e>\u001b[0m in \u001b[0;36m<cell line: 1>\u001b[0;34m()\u001b[0m\n\u001b[0;32m----> 1\u001b[0;31m \u001b[0mlist1\u001b[0m\u001b[0;34m[\u001b[0m\u001b[0;36m1\u001b[0m\u001b[0;34m]\u001b[0m\u001b[0;34m\u001b[0m\u001b[0;34m\u001b[0m\u001b[0m\n\u001b[0m",
            "\u001b[0;31mNameError\u001b[0m: name 'list1' is not defined"
          ]
        }
      ]
    },
    {
      "cell_type": "markdown",
      "source": [
        "*Exercise 2:* Print the first element of list2 and the second element of list3."
      ],
      "metadata": {
        "id": "T3mtaUaYcGgy"
      }
    },
    {
      "cell_type": "code",
      "source": [
        "# print the first element of list2\n",
        "print(XX)\n",
        "\n",
        "# print the second element of list3\n",
        "print(XX)"
      ],
      "metadata": {
        "id": "PJe9HAQJcQdn"
      },
      "execution_count": null,
      "outputs": []
    },
    {
      "cell_type": "code",
      "source": [
        "#@title Exercise 2 solution\n",
        "# print the first element of list2\n",
        "print(list2[0])\n",
        "\n",
        "# print the second element of list3\n",
        "print(list3[1])"
      ],
      "metadata": {
        "id": "lCyB0-MMcWnO",
        "cellView": "form"
      },
      "execution_count": null,
      "outputs": []
    },
    {
      "cell_type": "markdown",
      "source": [
        "Indexing can also work backwards (using negative numbers):"
      ],
      "metadata": {
        "id": "FkPzH0W1dLKG"
      }
    },
    {
      "cell_type": "code",
      "source": [
        "print(list2[-1]) # last element\n",
        "print(list1[-2]) # penultimate element"
      ],
      "metadata": {
        "id": "lDHaOwjIdJdK"
      },
      "execution_count": null,
      "outputs": []
    },
    {
      "cell_type": "markdown",
      "source": [
        "We can index ranges as well. In python terminology this is called \"slicing\".\n",
        "\n",
        "\n",
        "```\n",
        "a[m:n]\n",
        "```\n",
        "\n",
        "This would slice/index the list a, starting from the m-th element (remember it's zero-based!) up to the n-th element (but not including n)."
      ],
      "metadata": {
        "id": "OTZrEqb0cgIf"
      }
    },
    {
      "cell_type": "code",
      "source": [
        "print(list2[0:2]) # print the first two elements of list2"
      ],
      "metadata": {
        "id": "UeCmyFHDculI"
      },
      "execution_count": null,
      "outputs": []
    },
    {
      "cell_type": "markdown",
      "source": [
        "*Exercise 3:* Create a list with 7 elements. Then create a new list which would only store the 3rd and 4th element of the longer list."
      ],
      "metadata": {
        "id": "-cJ14tXnd1IF"
      }
    },
    {
      "cell_type": "code",
      "source": [
        "# create a variable called long_list with 7 elements\n",
        "long_list = XX\n",
        "\n",
        "# create a new variable called short_list and use slicing to store the 3rd and 4th element of long_list\n",
        "short_list = XX\n",
        "\n",
        "# print it\n",
        "print(short_list)"
      ],
      "metadata": {
        "id": "-KcehSxheDV9"
      },
      "execution_count": null,
      "outputs": []
    },
    {
      "cell_type": "code",
      "source": [
        "#@title Exercise 3 solution\n",
        "# create a variable called long_list with 7 elements\n",
        "long_list = [\"a\", 1, \"b\", [2,3], .456, \"3\", -5]\n",
        "\n",
        "# create a new variable called short_list and use slicing to store the 3rd and 4th element of long_list\n",
        "short_list = long_list[2:4]\n",
        "\n",
        "# print it\n",
        "print(short_list)"
      ],
      "metadata": {
        "cellView": "form",
        "id": "N8d2QMI5e13l"
      },
      "execution_count": null,
      "outputs": []
    },
    {
      "cell_type": "markdown",
      "source": [
        "Omitting the first index results in slicing from the beginning.\n",
        "\n",
        "Omitting the second index results in slicing until the end.\n",
        "\n",
        "Omitting both indices results in selecting all elements."
      ],
      "metadata": {
        "id": "U948kB6zfGxl"
      }
    },
    {
      "cell_type": "code",
      "source": [
        "print(long_list[3:])\n",
        "print(long_list[:3])\n",
        "print(long_list[:])"
      ],
      "metadata": {
        "id": "Q9W5kqjOfdX5"
      },
      "execution_count": null,
      "outputs": []
    },
    {
      "cell_type": "markdown",
      "source": [
        "You can also index lists with a \"stride\" (using predefined steps), similar to Matlab. However, the order is different in Matlab: instead of\n",
        "\n",
        "\n",
        "```\n",
        "a[m:step:n]\n",
        "```\n",
        "\n",
        "the python syntax is\n",
        "\n",
        "\n",
        "```\n",
        "a[m:n:step]\n",
        "```\n",
        "as in the following example:"
      ],
      "metadata": {
        "id": "gcW6D9Cnf0pg"
      }
    },
    {
      "cell_type": "code",
      "source": [
        "long_list[0:8:2]"
      ],
      "metadata": {
        "id": "UMGlTklMf7SU"
      },
      "execution_count": null,
      "outputs": []
    },
    {
      "cell_type": "markdown",
      "source": [
        "Replacing list elements is intuitive:"
      ],
      "metadata": {
        "id": "lTIYL9nnggD6"
      }
    },
    {
      "cell_type": "code",
      "source": [
        "long_list[0]=\"new element\"\n",
        "print(long_list)"
      ],
      "metadata": {
        "id": "rqZVqsVHgr_-"
      },
      "execution_count": null,
      "outputs": []
    },
    {
      "cell_type": "markdown",
      "source": [
        "You can also use built-in functions to append lists (add new elements), remove elements etc."
      ],
      "metadata": {
        "id": "JWnw3Yt0g_VY"
      }
    },
    {
      "cell_type": "code",
      "source": [
        "long_list.append(666)\n",
        "print(long_list)"
      ],
      "metadata": {
        "id": "RXwvVp63hESa"
      },
      "execution_count": null,
      "outputs": []
    },
    {
      "cell_type": "code",
      "source": [
        "long_list.remove(5) # please note: this will remove the (first) element equal 5, not the fifth/sixth element!\n",
        "print(long_list)"
      ],
      "metadata": {
        "id": "RkCPyONKhOrW"
      },
      "execution_count": null,
      "outputs": []
    },
    {
      "cell_type": "markdown",
      "source": [
        "If you want to remove elements by their index (and not by their value), use the built-in function \"pop\" or a general function \"del\""
      ],
      "metadata": {
        "id": "1ISoIaVvhwPx"
      }
    },
    {
      "cell_type": "code",
      "source": [
        "long_list.pop(1) # remove the second element (remember indexing starts at 0)\n",
        "print(long_list)"
      ],
      "metadata": {
        "id": "z0KAYQpHh6Rj"
      },
      "execution_count": null,
      "outputs": []
    },
    {
      "cell_type": "code",
      "source": [
        "del long_list[2:4] # remove a slice\n",
        "print(long_list)"
      ],
      "metadata": {
        "id": "_ohbw0qJiDG2"
      },
      "execution_count": null,
      "outputs": []
    },
    {
      "cell_type": "markdown",
      "source": [
        "*Exercise 4:* Create a list of numbers from 1 to 10.\n",
        "\n",
        "Delete the last element.\n",
        "\n",
        "Delete the element with the value 3.\n",
        "\n",
        "Add a new element with a value 11.\n",
        "\n",
        "Replace the first element with \"one\"."
      ],
      "metadata": {
        "id": "n5oSxfKZiSdB"
      }
    },
    {
      "cell_type": "code",
      "source": [
        "# create a list of numbers\n",
        "new_list = XX\n",
        "\n",
        "# delete the last element\n",
        "XX\n",
        "\n",
        "# delete the element with the value 3\n",
        "XX\n",
        "\n",
        "# add a new element with a value 11\n",
        "XX\n",
        "\n",
        "# replace the first element with \"one\"\n",
        "XX\n",
        "\n",
        "# print the list\n",
        "print(new_list)"
      ],
      "metadata": {
        "id": "NpHwGYT5ijjC"
      },
      "execution_count": null,
      "outputs": []
    },
    {
      "cell_type": "code",
      "source": [
        "#@title Exercise 4 solution\n",
        "# create a list of numbers\n",
        "new_list = [1,2,3,4,5,6,7,8,9,10]\n",
        "\n",
        "# delete the last element\n",
        "del new_list[-1] # or pop\n",
        "\n",
        "# delete the element with the value 3\n",
        "new_list.remove(3)\n",
        "\n",
        "# add a new element with a value 11\n",
        "new_list.append(11)\n",
        "\n",
        "# replace the first element with \"one\"\n",
        "new_list[0] = \"one\"\n",
        "\n",
        "# print the list\n",
        "print(new_list)"
      ],
      "metadata": {
        "cellView": "code",
        "id": "IHtwm2XyizAz"
      },
      "execution_count": null,
      "outputs": []
    },
    {
      "cell_type": "markdown",
      "source": [
        "You will be able to practice these skills and learn other list-related skills when you complete the home assignment on Datacamp. Now let's briefly cover the other data types: tuples, sets, and dictionaries.\n",
        "\n",
        "**5. Working with tuples**\n",
        "\n",
        "Tuples are similar to lists but they are immutable (i.e., their elements cannot be replaced). To create a tuple, use round brackets ( ) instead of square brackets [ ]:"
      ],
      "metadata": {
        "id": "Sa8uEO6WjrTJ"
      }
    },
    {
      "cell_type": "code",
      "source": [
        "tuple1 = (1,2,3)\n",
        "tuple2 = (\"a\",\"b\",\"c\")\n",
        "print(tuple1)\n",
        "print(tuple2)\n",
        "tuple3 = (tuple1, tuple2)\n",
        "print(tuple3)"
      ],
      "metadata": {
        "id": "UB7mPiJ5kJd_"
      },
      "execution_count": null,
      "outputs": []
    },
    {
      "cell_type": "markdown",
      "source": [
        "Tuples can be indexed similarly to lists:"
      ],
      "metadata": {
        "id": "K8qbUJTpkX5U"
      }
    },
    {
      "cell_type": "code",
      "source": [
        "print(tuple1[0])"
      ],
      "metadata": {
        "id": "ioE1r7htka2i"
      },
      "execution_count": null,
      "outputs": []
    },
    {
      "cell_type": "markdown",
      "source": [
        "However, their elements cannot be replaced:"
      ],
      "metadata": {
        "id": "_UK5Ib-dketG"
      }
    },
    {
      "cell_type": "code",
      "source": [
        "tuple1[0] = 333"
      ],
      "metadata": {
        "id": "e47tcFi_kgzs"
      },
      "execution_count": null,
      "outputs": []
    },
    {
      "cell_type": "markdown",
      "source": [
        "Tuples are useful for storing data that should not change. Using tuples can also be faster than using lists.\n",
        "\n",
        "**6. Working with sets**\n",
        "\n",
        "Sets are unordered data collections. They also automatically remove duplicates and only store unique elements. To create a set, use curly brackets { }:"
      ],
      "metadata": {
        "id": "0eqJvvUtkkbP"
      }
    },
    {
      "cell_type": "code",
      "source": [
        "set1 = {\"a\",\"b\",\"c\",\"c\"}\n",
        "print(set1)"
      ],
      "metadata": {
        "id": "n6CDcOutk9Sv"
      },
      "execution_count": null,
      "outputs": []
    },
    {
      "cell_type": "markdown",
      "source": [
        "The order of elements of a set doesn't matter, so printing a set may return the elements in a random order.\n",
        "\n",
        "The elements of a set can belong to different types, e.g.:"
      ],
      "metadata": {
        "id": "BlDgd4lylMf-"
      }
    },
    {
      "cell_type": "code",
      "source": [
        "set2 = {\"a\", 2, False}\n",
        "print(set2)"
      ],
      "metadata": {
        "id": "DI_xAgfRlTI8"
      },
      "execution_count": null,
      "outputs": []
    },
    {
      "cell_type": "markdown",
      "source": [
        "Set operators include union, intersection, and difference. Think of Venn diagrams:\n",
        "\n",
        "![Screenshot 2023-01-31 at 17.12.15.png](data:image/png;base64,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)"
      ],
      "metadata": {
        "id": "tR9AjkEdmxKZ"
      }
    },
    {
      "cell_type": "code",
      "source": [
        "## INTERSECTION\n",
        "\n",
        "# option 1\n",
        "set_intersection = set1 & set2 # logical AND\n",
        "print(set_intersection)\n",
        "\n",
        "# option 2\n",
        "set_intersection = set1.intersection(set2) # built-in set function\n",
        "print(set_intersection)\n"
      ],
      "metadata": {
        "id": "HA1yD7VHm5Bz"
      },
      "execution_count": null,
      "outputs": []
    },
    {
      "cell_type": "code",
      "source": [
        "## UNION\n",
        "\n",
        "# option 1\n",
        "set_union = set1 | set2 # logical OR\n",
        "print(set_union)\n",
        "\n",
        "# option 2\n",
        "set_union = set1.union(set2) # built-in set function\n",
        "print(set_union)"
      ],
      "metadata": {
        "id": "ugu8ilD8nb71"
      },
      "execution_count": null,
      "outputs": []
    },
    {
      "cell_type": "code",
      "source": [
        "## DIFFERENCE\n",
        "\n",
        "# option 1\n",
        "set_difference = set1 - set2 # subtraction operator\n",
        "print(set_difference)\n",
        "\n",
        "# option 2\n",
        "set_difference = set1.difference(set2) # built-in set function\n",
        "print(set_difference)"
      ],
      "metadata": {
        "id": "LNccutVun0um"
      },
      "execution_count": null,
      "outputs": []
    },
    {
      "cell_type": "code",
      "source": [
        "## SYMMETRIC DIFFERENCE\n",
        "\n",
        "# option 1\n",
        "set_symmdiff = set1 ^ set2 # special operator\n",
        "print(set_symmdiff)\n",
        "\n",
        "# option 2\n",
        "set_symmdiff = set1.symmetric_difference(set2) # built-in set function\n",
        "print(set_symmdiff)"
      ],
      "metadata": {
        "id": "SCM3dkUFoH2s"
      },
      "execution_count": null,
      "outputs": []
    },
    {
      "cell_type": "markdown",
      "source": [
        "*Exercise 5:* Symmetric difference is the same as the difference between a union and an intersection. Create option 3 for creating a symmetric difference set of set1 and set2."
      ],
      "metadata": {
        "id": "L1J7dTVro1c-"
      }
    },
    {
      "cell_type": "code",
      "source": [
        "# option 3\n",
        "set_symmdiff = XX\n",
        "print(set_symmdiff)"
      ],
      "metadata": {
        "id": "rFsaCBY5pB2g"
      },
      "execution_count": null,
      "outputs": []
    },
    {
      "cell_type": "code",
      "source": [
        "#@title Exercise 5 solution\n",
        "# option 3\n",
        "set_symmdiff = (set1 | set2) - (set1 & set2) # brackets are important to order set operations\n",
        "print(set_symmdiff)"
      ],
      "metadata": {
        "cellView": "form",
        "id": "A45acXoDpE6w"
      },
      "execution_count": null,
      "outputs": []
    },
    {
      "cell_type": "markdown",
      "source": [
        "**7. Working with dictionaries**\n",
        "\n",
        "Dictionaries are collections of data that store data in key-value pairs. As of Python version 3.7, dictionaries are ordered. In Python 3.6 and earlier, dictionaries are unordered.\n",
        "\n",
        "Dictionaries are similar to the concept of a structure in Matlab. To create a dictionary, use curly brackets { } and the following syntax:"
      ],
      "metadata": {
        "id": "4LKbF_Y4pTNf"
      }
    },
    {
      "cell_type": "code",
      "source": [
        "dict1={\"student1\":1.3, \"student2\":2.0, \"student3\":1.0}\n",
        "print(dict1)"
      ],
      "metadata": {
        "id": "QgrD6inmpoDC"
      },
      "execution_count": null,
      "outputs": []
    },
    {
      "cell_type": "markdown",
      "source": [
        "To access dictionary elements, you can use key indexing:\n",
        "\n"
      ],
      "metadata": {
        "id": "AdYOMUiop0kw"
      }
    },
    {
      "cell_type": "code",
      "source": [
        "print(dict1[\"student1\"])"
      ],
      "metadata": {
        "id": "LS69mdjup5lZ"
      },
      "execution_count": null,
      "outputs": []
    },
    {
      "cell_type": "markdown",
      "source": [
        "Replacing dictionary elements is intuitive:"
      ],
      "metadata": {
        "id": "_hXNbxTyqcPS"
      }
    },
    {
      "cell_type": "code",
      "source": [
        "dict1[\"student1\"] = 1.7\n",
        "print(dict1)"
      ],
      "metadata": {
        "id": "YdRzFuYnqgyZ"
      },
      "execution_count": null,
      "outputs": []
    },
    {
      "cell_type": "markdown",
      "source": [
        "**8. Working with numpy arrays**\n",
        "\n",
        "As (data) scientists we often work with large arrays of numbers. It's possible to do all sorts of numeric operations using built-in python functions but it's not always easy to code. Luckily there are lots of popular packages/modules that make it more intuitive and efficient to work with numbers (e.g. numpy), scientific data (e.g. scipy), carry out analysis (e.g. pandas) etc.\n",
        "\n",
        "Even the most basic mathematical operations are not implemented as built-in functions:"
      ],
      "metadata": {
        "id": "WVbHFrtBvFAX"
      }
    },
    {
      "cell_type": "code",
      "source": [
        "a = [1,2,3]\n",
        "a.mean() # this won't work\n",
        "mean(a) # this also won't work"
      ],
      "metadata": {
        "id": "746UFL3PwLoy"
      },
      "execution_count": null,
      "outputs": []
    },
    {
      "cell_type": "markdown",
      "source": [
        "To use modules, you need to import them first:"
      ],
      "metadata": {
        "id": "UZPwwobDwpdy"
      }
    },
    {
      "cell_type": "code",
      "source": [
        "import numpy as np # give it a shorter \"nickname\"\n",
        "np.mean(a)"
      ],
      "metadata": {
        "id": "y-bugsQBwmw6"
      },
      "execution_count": null,
      "outputs": []
    },
    {
      "cell_type": "markdown",
      "source": [
        "To create a numpy array, you can use the numpy function \"array\":"
      ],
      "metadata": {
        "id": "cUC-Wpk9wpk8"
      }
    },
    {
      "cell_type": "code",
      "source": [
        "array1 = np.array([1,2,3])\n",
        "print(array1)\n",
        "array2 = np.array([[4,5,6], [7,8,9]]) # 2 rows, 3 columns\n",
        "print(array2)"
      ],
      "metadata": {
        "id": "CtazySpbxO7o"
      },
      "execution_count": null,
      "outputs": []
    },
    {
      "cell_type": "markdown",
      "source": [
        "You can check the size of each array by using the following functions:"
      ],
      "metadata": {
        "id": "IAo5ApA5xbEQ"
      }
    },
    {
      "cell_type": "code",
      "source": [
        "print(len(array1)) # built-in python function\n",
        "print(np.size(array1)) # numpy function\n",
        "print(len(array2)) # length along the first dimension (rows)\n",
        "print(np.size(array2)) # ! different from Matlab - here this is the number of elements"
      ],
      "metadata": {
        "id": "TeIa7af0xmH6"
      },
      "execution_count": null,
      "outputs": []
    },
    {
      "cell_type": "markdown",
      "source": [
        "To check the number of rows and columns, use the \"shape\" function:"
      ],
      "metadata": {
        "id": "LeZa4F4LyYXa"
      }
    },
    {
      "cell_type": "code",
      "source": [
        "num_rows, num_cols = array2.shape\n",
        "print(num_rows)\n",
        "print(num_cols)"
      ],
      "metadata": {
        "id": "Hb82q60cycD5"
      },
      "execution_count": null,
      "outputs": []
    },
    {
      "cell_type": "markdown",
      "source": [
        "We will come back to working with arrays next week.\n",
        "\n",
        "**9. Logical indexing**\n",
        "\n",
        "In Matlab we could use logical indexing / relational operators to select those elements of a vector/matrix fullfilling a certain criterion, e.g.\n",
        "\n",
        "`x(x>5)`\n",
        "\n",
        "would select only those elements of x larger than 5. In Python we can use the same approach to numpy arrays:\n",
        "\n"
      ],
      "metadata": {
        "id": "nyhzOXunyjOB"
      }
    },
    {
      "cell_type": "code",
      "source": [
        "array2[array2>5]"
      ],
      "metadata": {
        "id": "a09XQuVfzbjQ"
      },
      "execution_count": null,
      "outputs": []
    },
    {
      "cell_type": "markdown",
      "source": [
        "Would it work with a standard list?"
      ],
      "metadata": {
        "id": "D6cXR8VNzhOi"
      }
    },
    {
      "cell_type": "code",
      "source": [
        "my_list = [3,4,5,6,7]\n",
        "my_list[my_list>5]"
      ],
      "metadata": {
        "id": "TP-V_uopzkjG"
      },
      "execution_count": null,
      "outputs": []
    },
    {
      "cell_type": "markdown",
      "source": [
        "Relational operators in Python are similar to those in Matlab with one exception:"
      ],
      "metadata": {
        "id": "3xqaJ0BQzzmq"
      }
    },
    {
      "cell_type": "code",
      "source": [
        "print(array2[array2 >= 5]) # same as in Matlab\n",
        "print(array2[array2 == 6]) # same as in Matlab\n",
        "print(array2[array2 != 4]) # ! different than in Matlab (~= won't work)"
      ],
      "metadata": {
        "id": "inYZwVgz0O3T"
      },
      "execution_count": null,
      "outputs": []
    },
    {
      "cell_type": "markdown",
      "source": [
        "*Exercise 6:* Create a numpy array with 3 rows and 4 columns.\n",
        "Create another array with a particular slice (e.g., the first 2 rows and the last 2 columns).\n",
        "Print those elements of the array that pass a certain criterion."
      ],
      "metadata": {
        "id": "Gjdy228w0kFZ"
      }
    },
    {
      "cell_type": "code",
      "source": [
        "# Create a numpy array with 3 rows and 4 columns\n",
        "\n",
        "my_array = XX\n",
        "\n",
        "# Create another array with a slice of my_array (first 2 rows, last 2 columns)\n",
        "\n",
        "array_slice = XX\n",
        "\n",
        "# Print array_slice elements larger than 5\n",
        "\n",
        "print(XX)"
      ],
      "metadata": {
        "id": "pe0LMjs209f9"
      },
      "execution_count": null,
      "outputs": []
    },
    {
      "cell_type": "code",
      "source": [
        "#@title Exercise 6 solution\n",
        "# Create a numpy array with 3 rows and 4 columns\n",
        "\n",
        "my_array = np.array([[1,2,3,4],[5,6,7,8],[9,10,11,12]])\n",
        "\n",
        "# Create another array with a slice of my_array (first 2 rows, last 2 columns)\n",
        "\n",
        "array_slice = my_array[0:2,-2:]\n",
        "\n",
        "# Print array_slice elements larger than 5\n",
        "\n",
        "print(array_slice[array_slice>5])"
      ],
      "metadata": {
        "cellView": "code",
        "id": "PDS5DPgW1Mat"
      },
      "execution_count": null,
      "outputs": []
    },
    {
      "cell_type": "markdown",
      "source": [
        "**10. If/else statements**\n",
        "\n",
        "If/else statements are intuitive but have a few quirks:\n",
        "(1) The if statement needs to end with a colon \":\"\n",
        "(2) Expressions inside the if statement need to have proper indentation, e.g.:\n"
      ],
      "metadata": {
        "id": "r317Focc16FO"
      }
    },
    {
      "cell_type": "code",
      "source": [
        "a = 33\n",
        "b = 200\n",
        "if b > a:\n",
        "  print(\"b is greater than a\")"
      ],
      "metadata": {
        "id": "54Vg_3Cn2Yj0"
      },
      "execution_count": null,
      "outputs": []
    },
    {
      "cell_type": "code",
      "source": [
        "a = 33\n",
        "b = 200\n",
        "if b > a  # this will return an error\n",
        "  print(\"b is greater than a\")"
      ],
      "metadata": {
        "id": "DDiWIpuV2fTm"
      },
      "execution_count": null,
      "outputs": []
    },
    {
      "cell_type": "code",
      "source": [
        "a = 33\n",
        "b = 200\n",
        "if b > a:\n",
        "print(\"b is greater than a\") # this will return an error"
      ],
      "metadata": {
        "id": "T0mqFYkq2aWY"
      },
      "execution_count": null,
      "outputs": []
    },
    {
      "cell_type": "code",
      "source": [
        "a = 33\n",
        "b = 33\n",
        "if b > a:\n",
        "  print(\"b is greater than a\")\n",
        "elif a == b: # ! Matlab elseif\n",
        "  print(\"a and b are equal\")"
      ],
      "metadata": {
        "id": "WhAx2N8i2lKL"
      },
      "execution_count": null,
      "outputs": []
    },
    {
      "cell_type": "code",
      "source": [
        "a = 200\n",
        "b = 33\n",
        "if b > a:\n",
        "  print(\"b is greater than a\")\n",
        "elif a == b:\n",
        "  print(\"a and b are equal\")\n",
        "else:\n",
        "  print(\"a is greater than b\")"
      ],
      "metadata": {
        "id": "ZNDBmMXj212e"
      },
      "execution_count": null,
      "outputs": []
    },
    {
      "cell_type": "markdown",
      "source": [
        "If/else statements can also be written in a different format (\"shorthand\") in one line, e.g.:"
      ],
      "metadata": {
        "id": "wb9PXlzX3MHr"
      }
    },
    {
      "cell_type": "code",
      "source": [
        "print(\"A\") if a > b else print(\"B\")"
      ],
      "metadata": {
        "id": "19l_SIxQ3Rrn"
      },
      "execution_count": null,
      "outputs": []
    },
    {
      "cell_type": "markdown",
      "source": [
        "Nested if statements need proper indentation, e.g.:"
      ],
      "metadata": {
        "id": "Ahg_Ty9M3zGv"
      }
    },
    {
      "cell_type": "code",
      "source": [
        "x = 41\n",
        "\n",
        "if x > 10:\n",
        "  print(\"Above ten,\")\n",
        "  if x > 20:\n",
        "    print(\"and also above 20!\")\n",
        "  else:\n",
        "    print(\"but not above 20.\")"
      ],
      "metadata": {
        "id": "t158BGhm31Xb"
      },
      "execution_count": null,
      "outputs": []
    },
    {
      "cell_type": "markdown",
      "source": [
        "In if/else statements, logical operators are usually written as words (\"and\", \"or\", \"not\") rather than symbols, e.g.:"
      ],
      "metadata": {
        "id": "_qoBtrrs38T4"
      }
    },
    {
      "cell_type": "code",
      "source": [
        "x = 12\n",
        "\n",
        "if x > 10 and x < 40:\n",
        "  print(\"Above 10 but below 40.\")\n",
        "  if x <15 or x > 35:\n",
        "    print(\"Below 15 or above 35.\")\n",
        "  else:\n",
        "    print(\"Somewhere between 15 and 35.\")\n",
        "\n",
        "if not x <= 10:\n",
        "  print(\"Definitely larger than 10.\")"
      ],
      "metadata": {
        "id": "RsRu46NW4Eun"
      },
      "execution_count": null,
      "outputs": []
    },
    {
      "cell_type": "markdown",
      "source": [
        "**11. For/while loops**"
      ],
      "metadata": {
        "id": "Cex5pR7n29fa"
      }
    },
    {
      "cell_type": "markdown",
      "source": [
        "For loops have a different syntax than in Matlab:"
      ],
      "metadata": {
        "id": "ZJ4rxvDz5D72"
      }
    },
    {
      "cell_type": "code",
      "source": [
        "fruits = [\"apple\", \"banana\", \"cherry\"]\n",
        "for x in fruits: # no good equivalent in Matlab\n",
        "  print(x)"
      ],
      "metadata": {
        "id": "tTTw2lAI28IX"
      },
      "execution_count": null,
      "outputs": []
    },
    {
      "cell_type": "code",
      "source": [
        "for i in range(5): # the equivalent of \"for i=1:5\" but with 0-based indexing (i.e., for i=0:4)\n",
        "  print(i)"
      ],
      "metadata": {
        "id": "cQ4QC4vC5KKQ"
      },
      "execution_count": null,
      "outputs": []
    },
    {
      "cell_type": "markdown",
      "source": [
        "For loops can also have their \"else\" statements (marking the end of a loop):"
      ],
      "metadata": {
        "id": "YldFmn805fdw"
      }
    },
    {
      "cell_type": "code",
      "source": [
        "for x in range(6,20,2): # the equivalent of \"for i=6:2:20\" but without the last element (i.e., starting at 6 but ending at 18)\n",
        "  print(x)\n",
        "else:\n",
        "  print(\"Finally finished!\")"
      ],
      "metadata": {
        "id": "awSaViU65sJe"
      },
      "execution_count": null,
      "outputs": []
    },
    {
      "cell_type": "markdown",
      "source": [
        "While loops are quite intuitive:"
      ],
      "metadata": {
        "id": "bhCfWd6g6Bcl"
      }
    },
    {
      "cell_type": "code",
      "source": [
        "i = 1\n",
        "while i < 6:\n",
        "  print(i)\n",
        "  i += 1 # this is the same as i = i+1"
      ],
      "metadata": {
        "id": "gQ5Oh8or6GKS"
      },
      "execution_count": null,
      "outputs": []
    },
    {
      "cell_type": "markdown",
      "source": [
        "Again we can add an else statement to mark the end of a loop:"
      ],
      "metadata": {
        "id": "lCsXpaNr6Mfh"
      }
    },
    {
      "cell_type": "code",
      "source": [
        "i = 10\n",
        "while i > 1:\n",
        "  print(i)\n",
        "  i /= 2 # this is the same as i = i/2\n",
        "else:\n",
        "  print(\"Finally finished!\")"
      ],
      "metadata": {
        "id": "nszybSfB6PF4"
      },
      "execution_count": null,
      "outputs": []
    },
    {
      "cell_type": "markdown",
      "source": [
        "*Exercise 7:* Create a for loop and nest an if/else statement inside of the loop. This is how it would look like in Matlab:\n",
        "\n",
        "\n",
        "```\n",
        "for i=1:10\n",
        "  if rem(i,2)==0\n",
        "    display('even')\n",
        "  else\n",
        "    display('odd')\n",
        "  end\n",
        "end\n",
        "```\n",
        "\n"
      ],
      "metadata": {
        "id": "Q78vFKxv6lBs"
      }
    },
    {
      "cell_type": "code",
      "source": [
        "# Create the outer \"for\" loop\n",
        "for XX\n",
        "# Create the inner \"if\" statement\n",
        "if XX\n",
        "# Evaluate the \"if\" statement\n",
        "print(XX)\n",
        "# Create the \"else\" statement\n",
        "XX\n",
        "# Evaluate the \"else\" statement\n",
        "XX\n",
        "# do we need to end a loop?"
      ],
      "metadata": {
        "id": "i5I96Z8w6wfx"
      },
      "execution_count": null,
      "outputs": []
    },
    {
      "cell_type": "code",
      "source": [
        "#@title Exercise 7 solution\n",
        "\n",
        "for i in range(1,11): # start at 1, end at 10\n",
        "  if i%2 == 0: # remainder of the division\n",
        "    print(\"even\")\n",
        "  else:\n",
        "    print(\"odd\")\n",
        "\n",
        "# We don't need to end the loop. Everything is done by indentation!"
      ],
      "metadata": {
        "cellView": "code",
        "id": "T4eLuaHW7Yy2"
      },
      "execution_count": null,
      "outputs": []
    },
    {
      "cell_type": "markdown",
      "source": [
        "That's it for now, well done! Time for a bad joke in Python!\n",
        "\n",
        "![funny_python_code_tshirt-rdc9e27d88a4242b3af717e0589505585_k2gna_736.webp](data:image/webp;base64,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)"
      ],
      "metadata": {
        "id": "biRAJ_4D8Ynr"
      }
    }
  ]
}